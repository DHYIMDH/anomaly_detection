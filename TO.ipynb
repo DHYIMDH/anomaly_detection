{
 "cells": [
  {
   "cell_type": "code",
   "execution_count": 3,
   "id": "fc6f73c6",
   "metadata": {},
   "outputs": [],
   "source": [
    "import numpy as np\n",
    "import pandas as pd\n",
    "import matplotlib.pyplot as plt\n",
    "import seaborn as sns\n",
    "from sklearn.svm import OneClassSVM\n",
    "from sklearn.metrics import accuracy_score, classification_report\n",
    "\n",
    "# 데이터 로드\n",
    "train_to = pd.read_csv('/Users/yimdahhee/Desktop/2데이/trainTO.csv')\n",
    "\n",
    "# Y_Quality 제외하고 데이터 준비\n",
    "X_train_to = train_to.drop(['Y_Class', 'Y_Quality'], axis=1)\n",
    "y_train_to = train_to['Y_Class']\n",
    "\n",
    "# One-Class SVM 학습 (0 레이블을 '정상'으로 간주하고 모델 학습)\n",
    "svm = OneClassSVM(kernel='rbf', gamma='scale', nu=0.1)\n",
    "svm.fit(X_train_to[y_train_to == 0])\n",
    "\n",
    "# 훈련 데이터에 대한 예측\n",
    "y_train_pred_svm = svm.predict(X_train_to)\n",
    "y_train_pred_svm = [0 if label == 1 else 1 for label in y_train_pred_svm]  # 0을 정상으로, 1을 이상치로 판별\n",
    "\n",
    "# 모델 성능 평가\n",
    "accuracy_train_svm = accuracy_score(y_train_to, y_train_pred_svm)\n",
    "report_train_svm = classification_report(y_train_to, y_train_pred_svm)\n"
   ]
  },
  {
   "cell_type": "code",
   "execution_count": 4,
   "id": "12116e99",
   "metadata": {},
   "outputs": [
    {
     "data": {
      "text/plain": [
       "(1.0,\n",
       " '              precision    recall  f1-score   support\\n\\n           0       1.00      1.00      1.00        22\\n           1       1.00      1.00      1.00       257\\n\\n    accuracy                           1.00       279\\n   macro avg       1.00      1.00      1.00       279\\nweighted avg       1.00      1.00      1.00       279\\n',\n",
       " 1.0,\n",
       " '              precision    recall  f1-score   support\\n\\n           0       1.00      1.00      1.00        22\\n           1       1.00      1.00      1.00       257\\n\\n    accuracy                           1.00       279\\n   macro avg       1.00      1.00      1.00       279\\nweighted avg       1.00      1.00      1.00       279\\n',\n",
       " 1.0,\n",
       " '              precision    recall  f1-score   support\\n\\n           0       1.00      1.00      1.00        22\\n           1       1.00      1.00      1.00       257\\n\\n    accuracy                           1.00       279\\n   macro avg       1.00      1.00      1.00       279\\nweighted avg       1.00      1.00      1.00       279\\n',\n",
       " 1.0,\n",
       " '              precision    recall  f1-score   support\\n\\n           0       1.00      1.00      1.00        22\\n           1       1.00      1.00      1.00       257\\n\\n    accuracy                           1.00       279\\n   macro avg       1.00      1.00      1.00       279\\nweighted avg       1.00      1.00      1.00       279\\n')"
      ]
     },
     "execution_count": 4,
     "metadata": {},
     "output_type": "execute_result"
    }
   ],
   "source": [
    "from sklearn.linear_model import LogisticRegression\n",
    "from sklearn.ensemble import RandomForestClassifier\n",
    "from sklearn.tree import DecisionTreeClassifier\n",
    "from sklearn.discriminant_analysis import LinearDiscriminantAnalysis\n",
    "\n",
    "# Logistic Regression\n",
    "logreg = LogisticRegression(max_iter=10000, random_state=42)\n",
    "logreg.fit(X_train_to, y_train_to)\n",
    "y_train_pred_logreg = logreg.predict(X_train_to)\n",
    "accuracy_logreg = accuracy_score(y_train_to, y_train_pred_logreg)\n",
    "report_logreg = classification_report(y_train_to, y_train_pred_logreg)\n",
    "\n",
    "# Decision Tree\n",
    "dt = DecisionTreeClassifier(random_state=42)\n",
    "dt.fit(X_train_to, y_train_to)\n",
    "y_train_pred_dt = dt.predict(X_train_to)\n",
    "accuracy_dt = accuracy_score(y_train_to, y_train_pred_dt)\n",
    "report_dt = classification_report(y_train_to, y_train_pred_dt)\n",
    "\n",
    "# Random Forest\n",
    "rf = RandomForestClassifier(random_state=42)\n",
    "rf.fit(X_train_to, y_train_to)\n",
    "y_train_pred_rf = rf.predict(X_train_to)\n",
    "accuracy_rf = accuracy_score(y_train_to, y_train_pred_rf)\n",
    "report_rf = classification_report(y_train_to, y_train_pred_rf)\n",
    "\n",
    "# Linear Discriminant Analysis (LDA)\n",
    "lda = LinearDiscriminantAnalysis()\n",
    "lda.fit(X_train_to, y_train_to)\n",
    "y_train_pred_lda = lda.predict(X_train_to)\n",
    "accuracy_lda = accuracy_score(y_train_to, y_train_pred_lda)\n",
    "report_lda = classification_report(y_train_to, y_train_pred_lda)\n",
    "\n",
    "accuracy_logreg, report_logreg, accuracy_dt, report_dt, accuracy_rf, report_rf, accuracy_lda, report_lda\n"
   ]
  },
  {
   "cell_type": "markdown",
   "id": "883722ee",
   "metadata": {},
   "source": [
    "# PCA model learning"
   ]
  },
  {
   "cell_type": "code",
   "execution_count": 7,
   "id": "96c31c6b",
   "metadata": {},
   "outputs": [],
   "source": [
    "import pandas as pd\n",
    "from sklearn.decomposition import PCA\n",
    "from sklearn.linear_model import LogisticRegression\n",
    "from sklearn.discriminant_analysis import LinearDiscriminantAnalysis\n",
    "from sklearn.metrics import accuracy_score, classification_report\n",
    "\n",
    "# 데이터 로드\n",
    "train_to = pd.read_csv('./trainTO.csv')\n",
    "test_to = pd.read_csv('./testTO.csv')\n",
    "\n",
    "# Y_Quality 제외하고 데이터 준비\n",
    "X_train_to = train_to.drop(['Y_Class', 'Y_Quality'], axis=1)\n",
    "y_train_to = train_to['Y_Class']\n",
    "X_test_to = test_to.drop(['Y_Class', 'Y_Quality'], axis=1)\n",
    "y_test_to = test_to['Y_Class']\n",
    "\n",
    "# PCA 적용 (80% 분산을 설명하는 주성분 추출)\n",
    "pca = PCA(n_components=0.80)\n",
    "X_train_pca = pca.fit_transform(X_train_to)\n",
    "X_test_pca = pca.transform(X_test_to)\n",
    "\n",
    "# Logistic Regression (Lasso regularization) 학습 및 평가\n",
    "logreg_lasso_pca = LogisticRegression(penalty='l1', solver='saga', max_iter=10000, random_state=42)\n",
    "logreg_lasso_pca.fit(X_train_pca, y_train_to)\n",
    "y_test_pred_lasso_pca = logreg_lasso_pca.predict(X_test_pca)\n",
    "accuracy_test_lasso_pca = accuracy_score(y_test_to, y_test_pred_lasso_pca)\n",
    "report_test_lasso_pca = classification_report(y_test_to, y_test_pred_lasso_pca)\n",
    "\n",
    "# LDA 학습 및 평가\n",
    "lda_pca = LinearDiscriminantAnalysis()\n",
    "lda_pca.fit(X_train_pca, y_train_to)\n",
    "y_test_pred_lda_pca = lda_pca.predict(X_test_pca)\n",
    "accuracy_test_lda_pca = accuracy_score(y_test_to, y_test_pred_lda_pca)\n",
    "report_test_lda_pca = classification_report(y_test_to, y_test_pred_lda_pca)\n"
   ]
  },
  {
   "cell_type": "code",
   "execution_count": null,
   "id": "6c5ca834",
   "metadata": {},
   "outputs": [],
   "source": [
    "# 테스트 데이터 PCA 변환\n",
    "X_test_pca = pca.transform(X_test_to)\n",
    "\n",
    "# 가중치 조정한 Logistic Regression 모델로 테스트 데이터 예측\n",
    "y_test_pred_weighted = logreg_weighted.predict(X_test_pca)\n",
    "accuracy_test_weighted = accuracy_score(y_test_to, y_test_pred_weighted)\n",
    "report_test_weighted = classification_report(y_test_to, y_test_pred_weighted)\n",
    "\n",
    "# 가중치 조정한 LDA 모델로 테스트 데이터 예측\n",
    "y_test_pred_lda_weighted = lda_weighted.predict(X_test_pca)\n",
    "accuracy_test_lda_weighted = accuracy_score(y_test_to, y_test_pred_lda_weighted)\n",
    "report_test_lda_weighted = classification_report(y_test_to, y_test_pred_lda_weighted)\n",
    "\n",
    "accuracy_test_weighted, report_test_weighted, accuracy_test_lda_weighted, report_test_lda_weighted\n"
   ]
  },
  {
   "cell_type": "code",
   "execution_count": null,
   "id": "36185cca",
   "metadata": {},
   "outputs": [],
   "source": [
    "# Decision Tree on PCA data\n",
    "dt_pca = DecisionTreeClassifier(random_state=42)\n",
    "dt_pca.fit(X_train_pca, y_train_to)\n",
    "y_train_pred_dt_pca = dt_pca.predict(X_train_pca)\n",
    "accuracy_dt_pca = accuracy_score(y_train_to, y_train_pred_dt_pca)\n",
    "report_dt_pca = classification_report(y_train_to, y_train_pred_dt_pca)\n",
    "\n",
    "# Random Forest on PCA data\n",
    "rf_pca = RandomForestClassifier(random_state=42)\n",
    "rf_pca.fit(X_train_pca, y_train_to)\n",
    "y_train_pred_rf_pca = rf_pca.predict(X_train_pca)\n",
    "accuracy_rf_pca = accuracy_score(y_train_to, y_train_pred_rf_pca)\n",
    "report_rf_pca = classification_report(y_train_to, y_train_pred_rf_pca)\n",
    "\n",
    "# Linear Discriminant Analysis (LDA) on PCA data\n",
    "lda_pca = LinearDiscriminantAnalysis()\n",
    "lda_pca.fit(X_train_pca, y_train_to)\n",
    "y_train_pred_lda_pca = lda_pca.predict(X_train_pca)\n",
    "accuracy_lda_pca = accuracy_score(y_train_to, y_train_pred_lda_pca)\n",
    "report_lda_pca = classification_report(y_train_to, y_train_pred_lda_pca)\n",
    "\n",
    "accuracy_dt_pca, report_dt_pca, accuracy_rf_pca, report_rf_pca, accuracy_lda_pca, report_lda_pca\n"
   ]
  }
 ],
 "metadata": {
  "kernelspec": {
   "display_name": "Python 3 (ipykernel)",
   "language": "python",
   "name": "python3"
  },
  "language_info": {
   "codemirror_mode": {
    "name": "ipython",
    "version": 3
   },
   "file_extension": ".py",
   "mimetype": "text/x-python",
   "name": "python",
   "nbconvert_exporter": "python",
   "pygments_lexer": "ipython3",
   "version": "3.9.12"
  }
 },
 "nbformat": 4,
 "nbformat_minor": 5
}
